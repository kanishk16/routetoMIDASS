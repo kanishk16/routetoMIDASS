{
  "nbformat": 4,
  "nbformat_minor": 0,
  "metadata": {
    "colab": {
      "name": "Python_Problem.ipynb",
      "version": "0.3.2",
      "provenance": [],
      "collapsed_sections": [],
      "include_colab_link": true
    },
    "kernelspec": {
      "name": "python3",
      "display_name": "Python 3"
    }
  },
  "cells": [
    {
      "cell_type": "markdown",
      "metadata": {
        "id": "view-in-github",
        "colab_type": "text"
      },
      "source": [
        "<a href=\"https://colab.research.google.com/github/kanishk16/routetoMIDASS/blob/master/Python_Problem/Python_Problem.ipynb\" target=\"_parent\"><img src=\"https://colab.research.google.com/assets/colab-badge.svg\" alt=\"Open In Colab\"/></a>"
      ]
    },
    {
      "metadata": {
        "id": "feTUySxqcVmw",
        "colab_type": "text"
      },
      "cell_type": "markdown",
      "source": [
        ">**Necessary Installations & Imports**"
      ]
    },
    {
      "metadata": {
        "id": "S8n8DD1kvsAl",
        "colab_type": "code",
        "outputId": "f052d43f-0750-4fad-ec39-7b5fd7c7f437",
        "colab": {
          "base_uri": "https://localhost:8080/",
          "height": 122
        }
      },
      "cell_type": "code",
      "source": [
        "!pip install jsonlines"
      ],
      "execution_count": 1,
      "outputs": [
        {
          "output_type": "stream",
          "text": [
            "Collecting jsonlines\n",
            "  Downloading https://files.pythonhosted.org/packages/4f/9a/ab96291470e305504aa4b7a2e0ec132e930da89eb3ca7a82fbe03167c131/jsonlines-1.2.0-py2.py3-none-any.whl\n",
            "Requirement already satisfied: six in /usr/local/lib/python3.6/dist-packages (from jsonlines) (1.11.0)\n",
            "Installing collected packages: jsonlines\n",
            "Successfully installed jsonlines-1.2.0\n"
          ],
          "name": "stdout"
        }
      ]
    },
    {
      "metadata": {
        "id": "JsgcVXdHuK39",
        "colab_type": "code",
        "colab": {}
      },
      "cell_type": "code",
      "source": [
        "import tweepy\n",
        "import json\n",
        "import jsonlines"
      ],
      "execution_count": 0,
      "outputs": []
    },
    {
      "metadata": {
        "id": "jlpZdnmS5Nkw",
        "colab_type": "code",
        "outputId": "9660d2e8-3acc-4d14-d12e-980b09b30ede",
        "colab": {
          "base_uri": "https://localhost:8080/",
          "height": 204
        }
      },
      "cell_type": "code",
      "source": [
        "!wget -c https://github.com/wbolster/jsonlines/tree/1.2.0"
      ],
      "execution_count": 0,
      "outputs": [
        {
          "output_type": "stream",
          "text": [
            "--2019-04-06 18:58:10--  https://github.com/wbolster/jsonlines/tree/1.2.0\n",
            "Resolving github.com (github.com)... 192.30.255.112, 192.30.255.113\n",
            "Connecting to github.com (github.com)|192.30.255.112|:443... connected.\n",
            "HTTP request sent, awaiting response... 200 OK\n",
            "Length: unspecified [text/html]\n",
            "Saving to: ‘1.2.0’\n",
            "\n",
            "\r1.2.0                   [<=>                 ]       0  --.-KB/s               \r1.2.0                   [ <=>                ]  82.30K  --.-KB/s    in 0.01s   \n",
            "\n",
            "2019-04-06 18:58:10 (5.48 MB/s) - ‘1.2.0’ saved [84279]\n",
            "\n"
          ],
          "name": "stdout"
        }
      ]
    },
    {
      "metadata": {
        "id": "C4zgnHyLc2kU",
        "colab_type": "text"
      },
      "cell_type": "markdown",
      "source": [
        "> **Task 1a : A python script to fetch all the tweets(as many as allowed by Twitter API) done by @midasIIITD twitter handle and dump the responses into JSONlines file**"
      ]
    },
    {
      "metadata": {
        "id": "yMZAAqsVdUPP",
        "colab_type": "text"
      },
      "cell_type": "markdown",
      "source": [
        "> **Authorization for Twitter API**"
      ]
    },
    {
      "metadata": {
        "id": "2c8KVhnFko67",
        "colab_type": "code",
        "colab": {}
      },
      "cell_type": "code",
      "source": [
        "\"\"\"\n",
        "Stores tokens and keys\n",
        "\"\"\"\n",
        "consumer_key = \"f69Ch2S4kVRsXbaZwhs0Qhc7M\"\n",
        "consumer_secret = \"Z43Y85EwvKe3tOHVNAfvxEx7r7jmNliHhXDgZsdSnXuRIZKLKz\"\n",
        "access_key = \"1034447027923374082-ftqEyERgMoJ8s8sMFICXfxy7UC44vs\"\n",
        "access_secret = \"p8hg6CRuXVzn9yFxrnwObSCrm0gmW2PhKiveqw9SLwzsg\"\n"
      ],
      "execution_count": 0,
      "outputs": []
    },
    {
      "metadata": {
        "id": "AMc6oh8rgXtI",
        "colab_type": "code",
        "colab": {}
      },
      "cell_type": "code",
      "source": [
        "# Authorization to consumer key and consumer secret \n",
        "auth = tweepy.OAuthHandler(consumer_key, consumer_secret) \n",
        "\n",
        "# Access to user's access key and access secret \n",
        "auth.set_access_token(access_key, access_secret) \n",
        "\n",
        "# Calling api \n",
        "api = tweepy.API(auth) "
      ],
      "execution_count": 0,
      "outputs": []
    },
    {
      "metadata": {
        "id": "RPzLPwt7gwyu",
        "colab_type": "code",
        "colab": {
          "base_uri": "https://localhost:8080/",
          "height": 34
        },
        "outputId": "10e437b1-68f9-4ed9-98f7-d1b801812bc2"
      },
      "cell_type": "code",
      "source": [
        "# api check\n",
        "api"
      ],
      "execution_count": 15,
      "outputs": [
        {
          "output_type": "execute_result",
          "data": {
            "text/plain": [
              "<tweepy.api.API at 0x7fb4d6753d30>"
            ]
          },
          "metadata": {
            "tags": []
          },
          "execution_count": 15
        }
      ]
    },
    {
      "metadata": {
        "id": "e7a82i6OgfCr",
        "colab_type": "text"
      },
      "cell_type": "markdown",
      "source": [
        ">**Tweet Extraction**"
      ]
    },
    {
      "metadata": {
        "id": "nBqHA2fjg8tY",
        "colab_type": "code",
        "colab": {
          "base_uri": "https://localhost:8080/",
          "height": 68
        },
        "outputId": "f2d6e90f-522c-4d55-c6ad-5d8507abf487"
      },
      "cell_type": "code",
      "source": [
        "# tweets to be extracted \n",
        "tweets = api.user_timeline(screen_name='midasIIITD', number_of_tweets=10) \n",
        "\n",
        "# tweet check\n",
        "print(type(tweets))\n",
        "print(type(tweets[0]))\n",
        "print(type(tweets[0]._json))"
      ],
      "execution_count": 41,
      "outputs": [
        {
          "output_type": "stream",
          "text": [
            "<class 'tweepy.models.ResultSet'>\n",
            "<class 'tweepy.models.Status'>\n",
            "<class 'dict'>\n"
          ],
          "name": "stdout"
        }
      ]
    },
    {
      "metadata": {
        "id": "mVEFKUY_hUU-",
        "colab_type": "text"
      },
      "cell_type": "markdown",
      "source": [
        "\n",
        "\n",
        "> ** Tweepy Status Object to dict to JSON string (ENCODING) to dict to list(DECODING)**\n",
        "\n",
        "\n"
      ]
    },
    {
      "metadata": {
        "id": "0I6y0Ww2h4z0",
        "colab_type": "code",
        "colab": {
          "base_uri": "https://localhost:8080/",
          "height": 68
        },
        "outputId": "754fc16f-0d2b-46cb-c604-5072ba8c6a07"
      },
      "cell_type": "code",
      "source": [
        "# tweepy status object to json object\n",
        "tweet_x = [json.loads(json.dumps(tweet._json)) for tweet in tweets]\n",
        "\n",
        "# tweet_x check\n",
        "print(type(tweet_x))\n",
        "print(type(tweet_x[1]))\n",
        "print(type(json.dumps(tweets[0]._json)))"
      ],
      "execution_count": 50,
      "outputs": [
        {
          "output_type": "stream",
          "text": [
            "<class 'list'>\n",
            "<class 'dict'>\n",
            "<class 'str'>\n"
          ],
          "name": "stdout"
        }
      ]
    },
    {
      "metadata": {
        "id": "ElzxdMvOiWov",
        "colab_type": "text"
      },
      "cell_type": "markdown",
      "source": [
        ">** dump into a jsonlines file**"
      ]
    },
    {
      "metadata": {
        "id": "vf9Bp57zkWLO",
        "colab_type": "code",
        "colab": {}
      },
      "cell_type": "code",
      "source": [
        "# Open a JSON file to dump all the tweets\n",
        "with open('/content/twitter12.jsonl', mode='w') as writer:\n",
        "  for ii in tweet_x:\n",
        "    json.dump(ii, writer)\n",
        "    writer.write('\\n')\n"
      ],
      "execution_count": 0,
      "outputs": []
    },
    {
      "metadata": {
        "id": "XsXe9I41d_lt",
        "colab_type": "text"
      },
      "cell_type": "markdown",
      "source": [
        "> **Function to fetch all tweets and dump their responses into a JSONL file**"
      ]
    },
    {
      "metadata": {
        "id": "HubLxZVqlBJs",
        "colab_type": "code",
        "outputId": "89c3b3bd-0387-489d-f6d3-adde9a20d612",
        "colab": {
          "base_uri": "https://localhost:8080/",
          "height": 34
        }
      },
      "cell_type": "code",
      "source": [
        "# Function to fetch all tweets and dump them into a jsonlines file \n",
        "def get_tweets(username): \n",
        "          \n",
        "        # Authorization to consumer key and consumer secret \n",
        "        auth = tweepy.OAuthHandler(consumer_key, consumer_secret) \n",
        "  \n",
        "        # Access to user's access key and access secret \n",
        "        auth.set_access_token(access_key, access_secret) \n",
        "  \n",
        "        # Calling api \n",
        "        api = tweepy.API(auth) \n",
        "  \n",
        "        # tweets to be extracted \n",
        "        tweets = api.user_timeline(screen_name=username)\n",
        "        \n",
        "        # tweepy status object to json object\n",
        "        tweet_x = [json.loads(json.dumps(tweet._json)) for tweet in tweets] \n",
        "        \n",
        "       # Open a JSON file to dump all the tweets\n",
        "        with open('/content/twitter.jsonl', mode='w') as writer:\n",
        "          for ii in tweet_x:\n",
        "            json.dump(ii, writer)\n",
        "            writer.write('\\n')\n",
        "            \n",
        "        # Printing the tweets \n",
        "        print(\"RECORDED\") \n",
        "  \n",
        "  \n",
        "if __name__ == '__main__': \n",
        "  \n",
        "    # Twitter handle whose tweets are to be extracted \n",
        "    get_tweets(\"midasIIITD\") "
      ],
      "execution_count": 58,
      "outputs": [
        {
          "output_type": "stream",
          "text": [
            "RECORDED\n"
          ],
          "name": "stdout"
        }
      ]
    },
    {
      "metadata": {
        "id": "7igwJn1TXnqm",
        "colab_type": "code",
        "outputId": "c25d5051-4a25-40a4-9da3-7961ee6ea974",
        "colab": {
          "base_uri": "https://localhost:8080/",
          "height": 102
        }
      },
      "cell_type": "code",
      "source": [
        "!pip install pandas"
      ],
      "execution_count": 0,
      "outputs": [
        {
          "output_type": "stream",
          "text": [
            "Requirement already satisfied: pandas in /usr/local/lib/python3.6/dist-packages (0.22.0)\n",
            "Requirement already satisfied: python-dateutil>=2 in /usr/local/lib/python3.6/dist-packages (from pandas) (2.5.3)\n",
            "Requirement already satisfied: numpy>=1.9.0 in /usr/local/lib/python3.6/dist-packages (from pandas) (1.14.6)\n",
            "Requirement already satisfied: pytz>=2011k in /usr/local/lib/python3.6/dist-packages (from pandas) (2018.9)\n",
            "Requirement already satisfied: six>=1.5 in /usr/local/lib/python3.6/dist-packages (from python-dateutil>=2->pandas) (1.11.0)\n"
          ],
          "name": "stdout"
        }
      ]
    }
  ]
}